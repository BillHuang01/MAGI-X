{
 "cells": [
  {
   "cell_type": "markdown",
   "id": "cardiac-elevation",
   "metadata": {},
   "source": [
    "Let us first import the required packages and MAGI-X files. Please refer to README.ipynb for package version requirements."
   ]
  },
  {
   "cell_type": "code",
   "execution_count": 1,
   "id": "cosmetic-breakdown",
   "metadata": {},
   "outputs": [],
   "source": [
    "# import required packages\n",
    "import time\n",
    "import numpy as np\n",
    "import torch\n",
    "import matplotlib.pyplot as plt\n",
    "\n",
    "# import MAGI-X packages\n",
    "from magix import dynamic # dynamic module\n",
    "from magix import odeinfer # inferred module"
   ]
  },
  {
   "cell_type": "markdown",
   "id": "ahead-freeware",
   "metadata": {},
   "source": [
    "# Fully observed system"
   ]
  },
  {
   "cell_type": "markdown",
   "id": "abstract-contribution",
   "metadata": {},
   "source": [
    "We first consider the simple case where all components share the same set of observation time points, i.e., $\\tau_{1} = \\cdots = \\tau_{D}$, where $\\tau_{d}$ is the set of observation time points of the $d$-th component."
   ]
  },
  {
   "cell_type": "markdown",
   "id": "handled-istanbul",
   "metadata": {},
   "source": [
    "## FitzHugh-Nagumo system"
   ]
  },
  {
   "cell_type": "markdown",
   "id": "speaking-drill",
   "metadata": {},
   "source": [
    "The FitzHugh-Nagumo (FN) system models the activation of an excitable system such as neuron. It is a two-component system determined by the following ODEs,\n",
    "\\begin{equation*}\n",
    "    \\left\\{\\begin{array}{ll}\n",
    "    \\dot{x}_{1} = c(x_{1} - x_{1}^{3}/3 + x_{2}) \\\\ \n",
    "    \\dot{x}_{2} = -(x_{1} - a + b x_{2}) / c \\\\\n",
    "    \\end{array}\\right.\n",
    "\\end{equation*}\n",
    "where $a = 0.2$, $b = 0.2$, $c = 3$, and $x(0) = (-1,1)$. The groundtruth trajectory (dashed line) from $t=0$ to $t=40$ obtained via numerical integration on 321 equal spaced-out time points. We use the first half of the groundtruth trajectory to generate the 41-point noisy observations (circles) at one out of every four points, i.e., $\\tau_{d} = \\{t_{1},t_{5},\\ldots,t_{157},t_{161}\\}\\;\\forall d$, and save the second half for the forecasting performance evaluation. "
   ]
  },
  {
   "cell_type": "code",
   "execution_count": 2,
   "id": "incorporated-lincoln",
   "metadata": {},
   "outputs": [
    {
     "data": {
      "image/png": "[encoded data removed]",
      "text/plain": [
       "<Figure size 432x288 with 1 Axes>"
      ]
     },
     "metadata": {},
     "output_type": "display_data"
    }
   ],
   "source": [
    "# experimental setting\n",
    "seed = 637077689 # random seed\n",
    "example = 'fn' # example\n",
    "no_train = '1' # train file, '1' for full observations, '2' for partial observations\n",
    "noise = [0.1,0.1] # noise level\n",
    "\n",
    "# read data\n",
    "data = np.loadtxt('data/%s/groundtruth.txt' %(example))\n",
    "tdata = data[:,0] # time\n",
    "xdata = data[:,1:] # component values\n",
    "no_comp = xdata.shape[1] # number of components\n",
    "obs_idx = open('data/%s/train%s.txt' %(example,no_train), 'r').readlines()\n",
    "if (len(obs_idx) != no_comp):\n",
    "    raise ValueError('observation idx must have %d sets!' %(no_comp))\n",
    "obs_idx = [[int(x) for x in ox.split(',')] for ox in obs_idx]\n",
    "max_obsidx = max([max(x) for x in obs_idx])\n",
    "\n",
    "# preprocess data\n",
    "tobs = tdata[0:(max_obsidx+1)].copy()\n",
    "yobs = xdata[0:(max_obsidx+1),:].copy()\n",
    "np.random.seed(seed) # set random seed for noise\n",
    "for i in range(no_comp):\n",
    "    yobs[:,i] = yobs[:,i] + np.random.normal(0,noise[i],(max_obsidx+1))\n",
    "    missing = np.ones((max_obsidx+1)).astype(bool)\n",
    "    missing[obs_idx[i]] = False\n",
    "    yobs[missing,i] = np.nan\n",
    "    \n",
    "# visualize the groundtruth trajectory and the noisy data\n",
    "col = ['b','r','g']\n",
    "fig = plt.figure(facecolor='w')\n",
    "ax = fig.add_subplot(111, facecolor='#dddddd', axisbelow=True)\n",
    "for i in range(no_comp):\n",
    "    ax.plot(tdata, xdata[:,i], color=col[i], linestyle=':', alpha=0.5, lw=1)\n",
    "    ax.scatter(tobs, yobs[:,i], s=7.5, marker='o', color=col[i])\n",
    "ax.set_xlabel('')\n",
    "ax.set_ylabel('')\n",
    "ax.set_ylim(-3,3)\n",
    "plt.show()"
   ]
  },
  {
   "cell_type": "markdown",
   "id": "compliant-syntax",
   "metadata": {},
   "source": [
    "Now we apply MAGI-X for learning the unknown dynamic using only the noisy observations."
   ]
  },
  {
   "cell_type": "code",
   "execution_count": 3,
   "id": "pacific-oxygen",
   "metadata": {},
   "outputs": [
    {
     "name": "stdout",
     "output_type": "stream",
     "text": [
      "100/2500 iteration: 41.324854\n",
      "200/2500 iteration: 19.720173\n",
      "300/2500 iteration: 11.254642\n",
      "400/2500 iteration: 7.013942\n",
      "500/2500 iteration: 5.054813\n",
      "600/2500 iteration: 4.151693\n",
      "700/2500 iteration: 3.611586\n",
      "800/2500 iteration: 3.263816\n",
      "900/2500 iteration: 3.025114\n",
      "1000/2500 iteration: 2.860716\n",
      "1100/2500 iteration: 2.735727\n",
      "1200/2500 iteration: 2.623023\n",
      "1300/2500 iteration: 2.542587\n",
      "1400/2500 iteration: 2.463457\n",
      "1500/2500 iteration: 2.401761\n",
      "1600/2500 iteration: 2.338000\n",
      "1700/2500 iteration: 2.281433\n",
      "1800/2500 iteration: 2.241551\n",
      "1900/2500 iteration: 2.199068\n",
      "2000/2500 iteration: 2.168263\n",
      "2100/2500 iteration: 2.132358\n",
      "2200/2500 iteration: 2.101451\n",
      "2300/2500 iteration: 2.077966\n",
      "2400/2500 iteration: 2.056552\n",
      "2500/2500 iteration: 2.030744\n",
      "run time: 13.51 seconds\n"
     ]
    }
   ],
   "source": [
    "torch.manual_seed(seed)\n",
    "magix_iteration = 2500\n",
    "magix_node = [no_comp,512,no_comp]\n",
    "start_time = time.time()\n",
    "fOde = dynamic.nnModule(magix_node) # define neural network dynamic\n",
    "magix = odeinfer.odeinfer(yobs,tobs,fOde) # call inference class\n",
    "xinfer = magix.map(nEpoch=magix_iteration,verbose=True,returnX=True) # map inference\n",
    "end_time = time.time()\n",
    "run_time = end_time - start_time\n",
    "print(\"run time: %.2f seconds\" %(run_time))"
   ]
  },
  {
   "cell_type": "markdown",
   "id": "unexpected-australia",
   "metadata": {},
   "source": [
    "We now compute the reconstructed trajectory (solid line) from the learned dynamic. The reconstructed trajectory refers to the trajectory computed via numerical integration with initial condition being the inferred $x_{0}$, i.e., the first point of inferred $x(\\mathcal{T})$."
   ]
  },
  {
   "cell_type": "code",
   "execution_count": 4,
   "id": "greek-wright",
   "metadata": {},
   "outputs": [
    {
     "data": {
      "image/png": "[encoded data removed]",
      "text/plain": [
       "<Figure size 432x288 with 1 Axes>"
      ]
     },
     "metadata": {},
     "output_type": "display_data"
    }
   ],
   "source": [
    "x0 = xinfer[0,:].squeeze() # inferred initial state\n",
    "xrecon = magix.predict(x0,tdata) # reconstructed trajectory\n",
    "# visualization\n",
    "col = ['b','r','g']\n",
    "fig = plt.figure(facecolor='w')\n",
    "ax = fig.add_subplot(111, facecolor='#dddddd', axisbelow=True)\n",
    "for i in range(no_comp):\n",
    "    ax.plot(tdata, xrecon[:,i], color=col[i], alpha=0.5, lw=2.5)\n",
    "    ax.plot(tdata, xdata[:,i], linestyle=':', color=col[i], alpha=1, lw=1)\n",
    "    ax.scatter(tobs, yobs[:,i], s=7.5, marker='o', color=col[i])\n",
    "ax.set_xlabel('')\n",
    "ax.set_ylabel('')\n",
    "ax.set_ylim(-3,3)\n",
    "plt.title('Reconstructed Trajectory')\n",
    "plt.show()"
   ]
  },
  {
   "cell_type": "markdown",
   "id": "forty-parade",
   "metadata": {},
   "source": [
    "We next compute the inferred trajectory (solid line) from the learned dynamic. The inferred trajectory refers to the $x(\\mathcal{T})$ from the output of MAGI-X plus the forecast trajectory computed via numerical integration with initial condition being the last point of $x(\\mathcal{T})$."
   ]
  },
  {
   "cell_type": "code",
   "execution_count": 5,
   "id": "plastic-intention",
   "metadata": {},
   "outputs": [
    {
     "data": {
      "image/png": "[encoded data removed]",
      "text/plain": [
       "<Figure size 432x288 with 1 Axes>"
      ]
     },
     "metadata": {},
     "output_type": "display_data"
    }
   ],
   "source": [
    "xl = xinfer[-1,:].squeeze() # inferred last state (initial state for forecast)\n",
    "xpred = magix.predict(xl,tdata[max_obsidx:]) # forecast reconstruction\n",
    "xif = np.vstack((xinfer,xpred[1:,:])) # inferred + forecast\n",
    "# visualization\n",
    "col = ['b','r','g']\n",
    "fig = plt.figure(facecolor='w')\n",
    "ax = fig.add_subplot(111, facecolor='#dddddd', axisbelow=True)\n",
    "for i in range(no_comp):\n",
    "    ax.plot(tdata, xif[:,i], color=col[i], alpha=0.5, lw=2.5)\n",
    "    ax.plot(tdata, xdata[:,i], linestyle=':', color=col[i], alpha=1, lw=1)\n",
    "    ax.scatter(tobs, yobs[:,i], s=7.5, marker='o', color=col[i])\n",
    "ax.set_xlabel('')\n",
    "ax.set_ylabel('')\n",
    "ax.set_ylim(-3,3)\n",
    "plt.title('Inferred Trajectory')\n",
    "plt.show()"
   ]
  },
  {
   "cell_type": "markdown",
   "id": "stuffed-physiology",
   "metadata": {},
   "source": [
    "## Lotka-Volterra system"
   ]
  },
  {
   "cell_type": "markdown",
   "id": "geological-competition",
   "metadata": {},
   "source": [
    "The Lotka-Volterra system models the dynamics of the predator-prey interaction. It is a two-component system determined by the following ODEs,\n",
    "\\begin{equation*}\n",
    "    \\left\\{\\begin{array}{ll}\n",
    "    \\dot{x}_{1} = a x_{1} - b x_{1}x_{2} \\\\ \n",
    "    \\dot{x}_{2} = c x_{1}x_{2} - d x_{2} \\\\\n",
    "    \\end{array}\\right.\n",
    "\\end{equation*}\n",
    "where $a = 1.5$, $b = 1$, $c = 1$, $d = 3$, and $x(0) = (5, 0.2)$. Given that both $x_{1}$ and $x_{2}$ are always strictly positive, we consider the log-transformation of the system in this paper. The groundtruth trajectory (dashed line) from $t=0$ to $t=12$ obtained via numerical integration on 321 equal spaced-out time points. Similarly, we use the first half of the groundtruth trajectory to generate the 41-point noisy observations (circles) at one out of every four points, i.e., $\\tau_{d} = \\{t_{1},t_{5},\\ldots,t_{157},t_{161}\\}\\;\\forall d$, and save the second half for the forecasting performance evaluation. "
   ]
  },
  {
   "cell_type": "code",
   "execution_count": 6,
   "id": "controlling-korean",
   "metadata": {},
   "outputs": [
    {
     "data": {
      "image/png": "[encoded data removed]",
      "text/plain": [
       "<Figure size 432x288 with 1 Axes>"
      ]
     },
     "metadata": {},
     "output_type": "display_data"
    }
   ],
   "source": [
    "# experimental setting\n",
    "seed = 462421835 # random seed\n",
    "example = 'lv' # example\n",
    "no_train = '1' # train file, '1' for full observations, '2' for partial observations\n",
    "noise = [0.1,0.1] # noise level\n",
    "\n",
    "# read data\n",
    "data = np.loadtxt('data/%s/groundtruth.txt' %(example))\n",
    "tdata = data[:,0] # time\n",
    "xdata = data[:,1:] # component values\n",
    "no_comp = xdata.shape[1] # number of components\n",
    "obs_idx = open('data/%s/train%s.txt' %(example,no_train), 'r').readlines()\n",
    "if (len(obs_idx) != no_comp):\n",
    "    raise ValueError('observation idx must have %d sets!' %(no_comp))\n",
    "obs_idx = [[int(x) for x in ox.split(',')] for ox in obs_idx]\n",
    "max_obsidx = max([max(x) for x in obs_idx])\n",
    "\n",
    "# preprocess data\n",
    "tobs = tdata[0:(max_obsidx+1)].copy()\n",
    "yobs = xdata[0:(max_obsidx+1),:].copy()\n",
    "np.random.seed(seed) # set random seed for noise\n",
    "for i in range(no_comp):\n",
    "    yobs[:,i] = yobs[:,i] + np.random.normal(0,noise[i],(max_obsidx+1))\n",
    "    missing = np.ones((max_obsidx+1)).astype(bool)\n",
    "    missing[obs_idx[i]] = False\n",
    "    yobs[missing,i] = np.nan\n",
    "    \n",
    "# visualize the groundtruth trajectory and the noisy data\n",
    "col = ['b','r','g']\n",
    "fig = plt.figure(facecolor='w')\n",
    "ax = fig.add_subplot(111, facecolor='#dddddd', axisbelow=True)\n",
    "for i in range(no_comp):\n",
    "    ax.plot(tdata, xdata[:,i], color=col[i], linestyle=':', alpha=0.5, lw=1)\n",
    "    ax.scatter(tobs, yobs[:,i], s=7.5, marker='o', color=col[i])\n",
    "ax.set_xlabel('')\n",
    "ax.set_ylabel('')\n",
    "ax.set_ylim(-3,3)\n",
    "plt.show()"
   ]
  },
  {
   "cell_type": "markdown",
   "id": "beautiful-phone",
   "metadata": {},
   "source": [
    "Now we apply MAGI-X for learning the unknown dynamic using only the noisy observations."
   ]
  },
  {
   "cell_type": "code",
   "execution_count": 7,
   "id": "opened-sally",
   "metadata": {},
   "outputs": [
    {
     "name": "stdout",
     "output_type": "stream",
     "text": [
      "100/2500 iteration: 16.851838\n",
      "200/2500 iteration: 10.290875\n",
      "300/2500 iteration: 7.271287\n",
      "400/2500 iteration: 3.478912\n",
      "500/2500 iteration: 2.887475\n",
      "600/2500 iteration: 2.602148\n",
      "700/2500 iteration: 2.381724\n",
      "800/2500 iteration: 2.080657\n",
      "900/2500 iteration: 2.024975\n",
      "1000/2500 iteration: 1.984960\n",
      "1100/2500 iteration: 1.956196\n",
      "1200/2500 iteration: 1.932858\n",
      "1300/2500 iteration: 1.892918\n",
      "1400/2500 iteration: 1.875905\n",
      "1500/2500 iteration: 1.861282\n",
      "1600/2500 iteration: 1.849306\n",
      "1700/2500 iteration: 1.831846\n",
      "1800/2500 iteration: 1.822204\n",
      "1900/2500 iteration: 1.803555\n",
      "2000/2500 iteration: 1.775907\n",
      "2100/2500 iteration: 1.766489\n",
      "2200/2500 iteration: 1.748498\n",
      "2300/2500 iteration: 1.742319\n",
      "2400/2500 iteration: 1.727481\n",
      "2500/2500 iteration: 1.707559\n",
      "run time: 12.82 seconds\n"
     ]
    }
   ],
   "source": [
    "torch.manual_seed(seed)\n",
    "magix_iteration = 2500\n",
    "magix_node = [no_comp,512,no_comp]\n",
    "start_time = time.time()\n",
    "fOde = dynamic.nnModule(magix_node) # define neural network dynamic\n",
    "magix = odeinfer.odeinfer(yobs,tobs,fOde) # call inference class\n",
    "xinfer = magix.map(nEpoch=magix_iteration,verbose=True,returnX=True) # map inference\n",
    "end_time = time.time()\n",
    "run_time = end_time - start_time\n",
    "print(\"run time: %.2f seconds\" %(run_time))"
   ]
  },
  {
   "cell_type": "markdown",
   "id": "greater-exhaust",
   "metadata": {},
   "source": [
    "We now compute the reconstructed trajectory (solid line) from the learned dynamic."
   ]
  },
  {
   "cell_type": "code",
   "execution_count": null,
   "id": "quality-instruction",
   "metadata": {},
   "outputs": [],
   "source": [
    "x0 = xinfer[0,:].squeeze() # inferred initial state\n",
    "xrecon = magix.predict(x0,tdata) # reconstructed trajectory\n",
    "# visualization\n",
    "col = ['b','r','g']\n",
    "fig = plt.figure(facecolor='w')\n",
    "ax = fig.add_subplot(111, facecolor='#dddddd', axisbelow=True)\n",
    "for i in range(no_comp):\n",
    "    ax.plot(tdata, xrecon[:,i], color=col[i], alpha=0.5, lw=2.5)\n",
    "    ax.plot(tdata, xdata[:,i], linestyle=':', color=col[i], alpha=1, lw=1)\n",
    "    ax.scatter(tobs, yobs[:,i], s=7.5, marker='o', color=col[i])\n",
    "ax.set_xlabel('')\n",
    "ax.set_ylabel('')\n",
    "ax.set_ylim(-3,3)\n",
    "plt.title('Reconstructed Trajectory')\n",
    "plt.show()"
   ]
  },
  {
   "cell_type": "markdown",
   "id": "anticipated-feeling",
   "metadata": {},
   "source": [
    "We next compute the inferred trajectory (solid line) from the learned dynamic."
   ]
  },
  {
   "cell_type": "code",
   "execution_count": null,
   "id": "assured-noise",
   "metadata": {},
   "outputs": [],
   "source": [
    "xl = xinfer[-1,:].squeeze() # inferred last state (initial state for forecast)\n",
    "xpred = magix.predict(xl,tdata[max_obsidx:]) # forecast reconstruction\n",
    "xif = np.vstack((xinfer,xpred[1:,:])) # inferred + forecast\n",
    "# visualization\n",
    "col = ['b','r','g']\n",
    "fig = plt.figure(facecolor='w')\n",
    "ax = fig.add_subplot(111, facecolor='#dddddd', axisbelow=True)\n",
    "for i in range(no_comp):\n",
    "    ax.plot(tdata, xif[:,i], color=col[i], alpha=0.5, lw=2.5)\n",
    "    ax.plot(tdata, xdata[:,i], linestyle=':', color=col[i], alpha=1, lw=1)\n",
    "    ax.scatter(tobs, yobs[:,i], s=7.5, marker='o', color=col[i])\n",
    "ax.set_xlabel('')\n",
    "ax.set_ylabel('')\n",
    "ax.set_ylim(-3,3)\n",
    "plt.title('Inferred Trajectory')\n",
    "plt.show()"
   ]
  },
  {
   "cell_type": "markdown",
   "id": "separated-estate",
   "metadata": {},
   "source": [
    "## Hes1 system"
   ]
  },
  {
   "cell_type": "markdown",
   "id": "automotive-spine",
   "metadata": {},
   "source": [
    "The Hes1 system models the oscillation dynamic of Hes1 protein level ($x_{1}$) and Hes1 mRNA level ($x_{2}$) under the influence of a Hes1-interacting factor ($x_{3}$). It is a three-componet system determined by the following ODEs,  \n",
    "\\begin{equation*}\n",
    "    \\left\\{\\begin{array}{ll}\n",
    "    \\dot{x}_{1} = -a x_{1}x_{3} + b x_{2} - c x_{1} \\\\ \n",
    "    \\dot{x}_{2} = -d x_{2} + e / (1+x_{1}^2) \\\\ \n",
    "    \\dot{x}_{3} = -a x_{1}x_{3} + f/(1+x_{1}^2) - g x_{3}\\\\ \n",
    "    \\end{array}\\right.\n",
    "\\end{equation*}\n",
    "where $a = 0.022$, $b = 0.3$, $c = 0.031$, $d = 0.028$, $e = 0.5$, $f = 20$, $g = 0.3$, and $x(0) = (1.438575, 2.037488, 17.90385)$. Similarly, given that $x_{1}$, $x_{2}$, and $x_{3}$ are always strictly positive, we consider the log-transformation of the system in this paper. The groundtruth trajectory (dashed line) from $t=0$ to $t=480$ obtained via numerical integration on 321 equal spaced-out time points. Again, we use the first half of the groundtruth trajectory to generate the 41-point noisy observations (circles) at one out of every four points, i.e., $\\tau_{d} = \\{t_{1},t_{5},\\ldots,t_{157},t_{161}\\}\\;\\forall d$, and save the second half for the forecasting performance evaluation. "
   ]
  },
  {
   "cell_type": "code",
   "execution_count": null,
   "id": "productive-blackjack",
   "metadata": {},
   "outputs": [],
   "source": [
    "# experimental setting\n",
    "seed = 952055769 # random seed\n",
    "example = 'hes1' # example\n",
    "no_train = '1' # train file, '1' for full observations, '2' for partial observations\n",
    "noise = [0.1,0.1,0.1] # noise level\n",
    "\n",
    "# read data\n",
    "data = np.loadtxt('data/%s/groundtruth.txt' %(example))\n",
    "tdata = data[:,0] # time\n",
    "xdata = data[:,1:] # component values\n",
    "no_comp = xdata.shape[1] # number of components\n",
    "obs_idx = open('data/%s/train%s.txt' %(example,no_train), 'r').readlines()\n",
    "if (len(obs_idx) != no_comp):\n",
    "    raise ValueError('observation idx must have %d sets!' %(no_comp))\n",
    "obs_idx = [[int(x) for x in ox.split(',')] for ox in obs_idx]\n",
    "max_obsidx = max([max(x) for x in obs_idx])\n",
    "\n",
    "# preprocess data\n",
    "tobs = tdata[0:(max_obsidx+1)].copy()\n",
    "yobs = xdata[0:(max_obsidx+1),:].copy()\n",
    "np.random.seed(seed) # set random seed for noise\n",
    "for i in range(no_comp):\n",
    "    yobs[:,i] = yobs[:,i] + np.random.normal(0,noise[i],(max_obsidx+1))\n",
    "    missing = np.ones((max_obsidx+1)).astype(bool)\n",
    "    missing[obs_idx[i]] = False\n",
    "    yobs[missing,i] = np.nan\n",
    "    \n",
    "# visualize the groundtruth trajectory and the noisy data\n",
    "col = ['b','r','g']\n",
    "fig = plt.figure(facecolor='w')\n",
    "ax = fig.add_subplot(111, facecolor='#dddddd', axisbelow=True)\n",
    "for i in range(no_comp):\n",
    "    ax.plot(tdata, xdata[:,i], color=col[i], linestyle=':', alpha=0.5, lw=1)\n",
    "    ax.scatter(tobs, yobs[:,i], s=7.5, marker='o', color=col[i])\n",
    "ax.set_xlabel('')\n",
    "ax.set_ylabel('')\n",
    "ax.set_ylim(-2,4)\n",
    "plt.show()"
   ]
  },
  {
   "cell_type": "markdown",
   "id": "enabling-playback",
   "metadata": {},
   "source": [
    "Now we apply MAGI-X for learning the unknown dynamic using only the noisy observations."
   ]
  },
  {
   "cell_type": "code",
   "execution_count": null,
   "id": "worthy-affiliation",
   "metadata": {},
   "outputs": [],
   "source": [
    "torch.manual_seed(seed)\n",
    "magix_iteration = 2500\n",
    "magix_node = [no_comp,512,no_comp]\n",
    "start_time = time.time()\n",
    "fOde = dynamic.nnModule(magix_node) # define neural network dynamic\n",
    "magix = odeinfer.odeinfer(yobs,tobs,fOde) # call inference class\n",
    "xinfer = magix.map(nEpoch=magix_iteration,verbose=True,returnX=True) # map inference\n",
    "end_time = time.time()\n",
    "run_time = end_time - start_time\n",
    "print(\"run time: %.2f seconds\" %(run_time))"
   ]
  },
  {
   "cell_type": "markdown",
   "id": "partial-climb",
   "metadata": {},
   "source": [
    "We now compute the reconstructed trajectory (solid line) from the learned dynamic."
   ]
  },
  {
   "cell_type": "code",
   "execution_count": null,
   "id": "entire-vienna",
   "metadata": {},
   "outputs": [],
   "source": [
    "x0 = xinfer[0,:].squeeze() # inferred initial state\n",
    "xrecon = magix.predict(x0,tdata) # reconstructed trajectory\n",
    "# visualization\n",
    "col = ['b','r','g']\n",
    "fig = plt.figure(facecolor='w')\n",
    "ax = fig.add_subplot(111, facecolor='#dddddd', axisbelow=True)\n",
    "for i in range(no_comp):\n",
    "    ax.plot(tdata, xrecon[:,i], color=col[i], alpha=0.5, lw=2.5)\n",
    "    ax.plot(tdata, xdata[:,i], linestyle=':', color=col[i], alpha=1, lw=1)\n",
    "    ax.scatter(tobs, yobs[:,i], s=7.5, marker='o', color=col[i])\n",
    "ax.set_xlabel('')\n",
    "ax.set_ylabel('')\n",
    "ax.set_ylim(-2,4)\n",
    "plt.title('Reconstructed Trajectory')\n",
    "plt.show()"
   ]
  },
  {
   "cell_type": "markdown",
   "id": "continental-executive",
   "metadata": {},
   "source": [
    "We next compute the inferred trajectory (solid line) from the learned dynamic."
   ]
  },
  {
   "cell_type": "code",
   "execution_count": null,
   "id": "micro-institution",
   "metadata": {},
   "outputs": [],
   "source": [
    "xl = xinfer[-1,:].squeeze() # inferred last state (initial state for forecast)\n",
    "xpred = magix.predict(xl,tdata[max_obsidx:]) # forecast reconstruction\n",
    "xif = np.vstack((xinfer,xpred[1:,:])) # inferred + forecast\n",
    "# visualization\n",
    "col = ['b','r','g']\n",
    "fig = plt.figure(facecolor='w')\n",
    "ax = fig.add_subplot(111, facecolor='#dddddd', axisbelow=True)\n",
    "for i in range(no_comp):\n",
    "    ax.plot(tdata, xif[:,i], color=col[i], alpha=0.5, lw=2.5)\n",
    "    ax.plot(tdata, xdata[:,i], linestyle=':', color=col[i], alpha=1, lw=1)\n",
    "    ax.scatter(tobs, yobs[:,i], s=7.5, marker='o', color=col[i])\n",
    "ax.set_xlabel('')\n",
    "ax.set_ylabel('')\n",
    "ax.set_ylim(-2,4)\n",
    "plt.title('Inferred Trajectory')\n",
    "plt.show()"
   ]
  },
  {
   "cell_type": "markdown",
   "id": "plain-tribune",
   "metadata": {},
   "source": [
    "# Partially observed system"
   ]
  },
  {
   "cell_type": "markdown",
   "id": "liberal-aurora",
   "metadata": {},
   "source": [
    "MAGI-X is the first unknown ODEs inference method that provides a practical and complete solution to handle systems with asynchronous observation times, which $\\tau_{1} \\neq \\cdots \\neq \\tau_{D}$. This is commonly seen in practice, since sensor failure or human error could possibly lead to missing observations of some components but not necessary the whole system at a particular time point."
   ]
  },
  {
   "cell_type": "markdown",
   "id": "electrical-breath",
   "metadata": {},
   "source": [
    "## FitzHugh-Nagumo system"
   ]
  },
  {
   "cell_type": "markdown",
   "id": "psychological-medication",
   "metadata": {},
   "source": [
    "We simulate the noisy observations in the following setting: we only allow the observation of one component at each time point. For a fair comparison to the results of the fully observed system, we keep the number of observations to be about 41, and thus letting $\\tau_{1} = \\{t_{1},t_{5},\\ldots,t_{161}\\}$ and $\\tau_{2} = \\{t_{3},t_{7},\\ldots,t_{159}\\}$. "
   ]
  },
  {
   "cell_type": "code",
   "execution_count": null,
   "id": "imperial-defendant",
   "metadata": {},
   "outputs": [],
   "source": [
    "# experimental setting\n",
    "seed = 278515925 # random seed\n",
    "example = 'fn' # example\n",
    "no_train = '2' # train file, '1' for full observations, '2' for partial observations\n",
    "noise = [0.1,0.1] # noise level\n",
    "\n",
    "# read data\n",
    "data = np.loadtxt('data/%s/groundtruth.txt' %(example))\n",
    "tdata = data[:,0] # time\n",
    "xdata = data[:,1:] # component values\n",
    "no_comp = xdata.shape[1] # number of components\n",
    "obs_idx = open('data/%s/train%s.txt' %(example,no_train), 'r').readlines()\n",
    "if (len(obs_idx) != no_comp):\n",
    "    raise ValueError('observation idx must have %d sets!' %(no_comp))\n",
    "obs_idx = [[int(x) for x in ox.split(',')] for ox in obs_idx] # observation time point index\n",
    "max_obsidx = max([max(x) for x in obs_idx]) \n",
    "\n",
    "# preprocess data\n",
    "tobs = tdata[0:(max_obsidx+1)].copy()\n",
    "yobs = xdata[0:(max_obsidx+1),:].copy()\n",
    "np.random.seed(seed) # set random seed for noise\n",
    "for i in range(no_comp):\n",
    "    yobs[:,i] = yobs[:,i] + np.random.normal(0,noise[i],(max_obsidx+1))\n",
    "    missing = np.ones((max_obsidx+1)).astype(bool)\n",
    "    missing[obs_idx[i]] = False\n",
    "    yobs[missing,i] = np.nan\n",
    "    \n",
    "# visualize the groundtruth trajectory and the noisy data\n",
    "col = ['b','r','g']\n",
    "fig = plt.figure(facecolor='w')\n",
    "ax = fig.add_subplot(111, facecolor='#dddddd', axisbelow=True)\n",
    "for i in range(no_comp):\n",
    "    ax.plot(tdata, xdata[:,i], color=col[i], linestyle=':', alpha=0.5, lw=1)\n",
    "    ax.scatter(tobs, yobs[:,i], s=7.5, marker='o', color=col[i])\n",
    "ax.set_xlabel('')\n",
    "ax.set_ylabel('')\n",
    "ax.set_ylim(-3,3)\n",
    "plt.show()"
   ]
  },
  {
   "cell_type": "markdown",
   "id": "dense-auditor",
   "metadata": {},
   "source": [
    "Now we apply MAGI-X for learning the unknown dynamic using only the noisy observations."
   ]
  },
  {
   "cell_type": "code",
   "execution_count": null,
   "id": "quantitative-norfolk",
   "metadata": {},
   "outputs": [],
   "source": [
    "torch.manual_seed(seed)\n",
    "magix_iteration = 2500\n",
    "magix_node = [no_comp,512,no_comp]\n",
    "start_time = time.time()\n",
    "fOde = dynamic.nnModule(magix_node) # define neural network dynamic\n",
    "magix = odeinfer.odeinfer(yobs,tobs,fOde) # call inference class\n",
    "xinfer = magix.map(nEpoch=magix_iteration,verbose=True,returnX=True) # map inference\n",
    "end_time = time.time()\n",
    "run_time = end_time - start_time\n",
    "print(\"run time: %.2f seconds\" %(run_time))"
   ]
  },
  {
   "cell_type": "markdown",
   "id": "hundred-planning",
   "metadata": {},
   "source": [
    "We now compute the reconstructed trajectory (solid line) from the learned dynamic."
   ]
  },
  {
   "cell_type": "code",
   "execution_count": null,
   "id": "characteristic-delivery",
   "metadata": {},
   "outputs": [],
   "source": [
    "x0 = xinfer[0,:].squeeze() # inferred initial state\n",
    "xrecon = magix.predict(x0,tdata) # reconstructed trajectory\n",
    "# visualization\n",
    "col = ['b','r','g']\n",
    "fig = plt.figure(facecolor='w')\n",
    "ax = fig.add_subplot(111, facecolor='#dddddd', axisbelow=True)\n",
    "for i in range(no_comp):\n",
    "    ax.plot(tdata, xrecon[:,i], color=col[i], alpha=0.5, lw=2.5)\n",
    "    ax.plot(tdata, xdata[:,i], linestyle=':', color=col[i], alpha=1, lw=1)\n",
    "    ax.scatter(tobs, yobs[:,i], s=7.5, marker='o', color=col[i])\n",
    "ax.set_xlabel('')\n",
    "ax.set_ylabel('')\n",
    "ax.set_ylim(-3,3)\n",
    "plt.title('Reconstructed Trajectory')\n",
    "plt.show()"
   ]
  },
  {
   "cell_type": "markdown",
   "id": "contained-strain",
   "metadata": {},
   "source": [
    "We next compute the inferred trajectory (solid line) from the learned dynamic."
   ]
  },
  {
   "cell_type": "code",
   "execution_count": null,
   "id": "adapted-librarian",
   "metadata": {},
   "outputs": [],
   "source": [
    "xl = xinfer[-1,:].squeeze() # inferred last state (initial state for forecast)\n",
    "xpred = magix.predict(xl,tdata[max_obsidx:]) # forecast reconstruction\n",
    "xif = np.vstack((xinfer,xpred[1:,:])) # inferred + forecast\n",
    "# visualization\n",
    "col = ['b','r','g']\n",
    "fig = plt.figure(facecolor='w')\n",
    "ax = fig.add_subplot(111, facecolor='#dddddd', axisbelow=True)\n",
    "for i in range(no_comp):\n",
    "    ax.plot(tdata, xif[:,i], color=col[i], alpha=0.5, lw=2.5)\n",
    "    ax.plot(tdata, xdata[:,i], linestyle=':', color=col[i], alpha=1, lw=1)\n",
    "    ax.scatter(tobs, yobs[:,i], s=7.5, marker='o', color=col[i])\n",
    "ax.set_xlabel('')\n",
    "ax.set_ylabel('')\n",
    "ax.set_ylim(-3,3)\n",
    "plt.title('Inferred Trajectory')\n",
    "plt.show()"
   ]
  },
  {
   "cell_type": "markdown",
   "id": "favorite-london",
   "metadata": {},
   "source": [
    "## Lotka-Volterra system"
   ]
  },
  {
   "cell_type": "markdown",
   "id": "fleet-palace",
   "metadata": {},
   "source": [
    "We simulate the noisy observations under the same setting of the FitzHugh-Nagumo example: we only allow the observation of one component at each time point. For a fair comparison to the results of the fully observed system, we keep the number of observations to be about 41, and thus letting $\\tau_{1} = \\{t_{1},t_{5},\\ldots,t_{161}\\}$ and $\\tau_{2} = \\{t_{3},t_{7},\\ldots,t_{159}\\}$. "
   ]
  },
  {
   "cell_type": "code",
   "execution_count": null,
   "id": "covered-federal",
   "metadata": {},
   "outputs": [],
   "source": [
    "# experimental setting\n",
    "seed = 969894650 # random seed\n",
    "example = 'lv' # example\n",
    "no_train = '2' # train file, '1' for full observations, '2' for partial observations\n",
    "noise = [0.1,0.1] # noise level\n",
    "\n",
    "# read data\n",
    "data = np.loadtxt('data/%s/groundtruth.txt' %(example))\n",
    "tdata = data[:,0] # time\n",
    "xdata = data[:,1:] # component values\n",
    "no_comp = xdata.shape[1] # number of components\n",
    "obs_idx = open('data/%s/train%s.txt' %(example,no_train), 'r').readlines()\n",
    "if (len(obs_idx) != no_comp):\n",
    "    raise ValueError('observation idx must have %d sets!' %(no_comp))\n",
    "obs_idx = [[int(x) for x in ox.split(',')] for ox in obs_idx] # observation time point index\n",
    "max_obsidx = max([max(x) for x in obs_idx]) \n",
    "\n",
    "# preprocess data\n",
    "tobs = tdata[0:(max_obsidx+1)].copy()\n",
    "yobs = xdata[0:(max_obsidx+1),:].copy()\n",
    "np.random.seed(seed) # set random seed for noise\n",
    "for i in range(no_comp):\n",
    "    yobs[:,i] = yobs[:,i] + np.random.normal(0,noise[i],(max_obsidx+1))\n",
    "    missing = np.ones((max_obsidx+1)).astype(bool)\n",
    "    missing[obs_idx[i]] = False\n",
    "    yobs[missing,i] = np.nan\n",
    "    \n",
    "# visualize the groundtruth trajectory and the noisy data\n",
    "col = ['b','r','g']\n",
    "fig = plt.figure(facecolor='w')\n",
    "ax = fig.add_subplot(111, facecolor='#dddddd', axisbelow=True)\n",
    "for i in range(no_comp):\n",
    "    ax.plot(tdata, xdata[:,i], color=col[i], linestyle=':', alpha=0.5, lw=1)\n",
    "    ax.scatter(tobs, yobs[:,i], s=7.5, marker='o', color=col[i])\n",
    "ax.set_xlabel('')\n",
    "ax.set_ylabel('')\n",
    "ax.set_ylim(-3,3)\n",
    "plt.show()"
   ]
  },
  {
   "cell_type": "markdown",
   "id": "generous-doctrine",
   "metadata": {},
   "source": [
    "Now we apply MAGI-X for learning the unknown dynamic using only the noisy observations."
   ]
  },
  {
   "cell_type": "code",
   "execution_count": null,
   "id": "former-young",
   "metadata": {},
   "outputs": [],
   "source": [
    "torch.manual_seed(seed)\n",
    "magix_iteration = 2500\n",
    "magix_node = [no_comp,512,no_comp]\n",
    "start_time = time.time()\n",
    "fOde = dynamic.nnModule(magix_node) # define neural network dynamic\n",
    "magix = odeinfer.odeinfer(yobs,tobs,fOde) # call inference class\n",
    "xinfer = magix.map(nEpoch=magix_iteration,verbose=True,returnX=True) # map inference\n",
    "end_time = time.time()\n",
    "run_time = end_time - start_time\n",
    "print(\"run time: %.2f seconds\" %(run_time))"
   ]
  },
  {
   "cell_type": "markdown",
   "id": "animated-secondary",
   "metadata": {},
   "source": [
    "We now compute the reconstructed trajectory (solid line) from the learned dynamic."
   ]
  },
  {
   "cell_type": "code",
   "execution_count": null,
   "id": "charged-cheese",
   "metadata": {},
   "outputs": [],
   "source": [
    "x0 = xinfer[0,:].squeeze() # inferred initial state\n",
    "xrecon = magix.predict(x0,tdata) # reconstructed trajectory\n",
    "# visualization\n",
    "col = ['b','r','g']\n",
    "fig = plt.figure(facecolor='w')\n",
    "ax = fig.add_subplot(111, facecolor='#dddddd', axisbelow=True)\n",
    "for i in range(no_comp):\n",
    "    ax.plot(tdata, xrecon[:,i], color=col[i], alpha=0.5, lw=2.5)\n",
    "    ax.plot(tdata, xdata[:,i], linestyle=':', color=col[i], alpha=1, lw=1)\n",
    "    ax.scatter(tobs, yobs[:,i], s=7.5, marker='o', color=col[i])\n",
    "ax.set_xlabel('')\n",
    "ax.set_ylabel('')\n",
    "ax.set_ylim(-3,3)\n",
    "plt.title('Reconstructed Trajectory')\n",
    "plt.show()"
   ]
  },
  {
   "cell_type": "markdown",
   "id": "acknowledged-ancient",
   "metadata": {},
   "source": [
    "We next compute the inferred trajectory (solid line) from the learned dynamic."
   ]
  },
  {
   "cell_type": "code",
   "execution_count": null,
   "id": "identified-automation",
   "metadata": {},
   "outputs": [],
   "source": [
    "xl = xinfer[-1,:].squeeze() # inferred last state (initial state for forecast)\n",
    "xpred = magix.predict(xl,tdata[max_obsidx:]) # forecast reconstruction\n",
    "xif = np.vstack((xinfer,xpred[1:,:])) # inferred + forecast\n",
    "# visualization\n",
    "col = ['b','r','g']\n",
    "fig = plt.figure(facecolor='w')\n",
    "ax = fig.add_subplot(111, facecolor='#dddddd', axisbelow=True)\n",
    "for i in range(no_comp):\n",
    "    ax.plot(tdata, xif[:,i], color=col[i], alpha=0.5, lw=2.5)\n",
    "    ax.plot(tdata, xdata[:,i], linestyle=':', color=col[i], alpha=1, lw=1)\n",
    "    ax.scatter(tobs, yobs[:,i], s=7.5, marker='o', color=col[i])\n",
    "ax.set_xlabel('')\n",
    "ax.set_ylabel('')\n",
    "ax.set_ylim(-3,3)\n",
    "plt.title('Inferred Trajectory')\n",
    "plt.show()"
   ]
  },
  {
   "cell_type": "markdown",
   "id": "toxic-alfred",
   "metadata": {},
   "source": [
    "## Hes1 system"
   ]
  },
  {
   "cell_type": "markdown",
   "id": "fitted-digest",
   "metadata": {},
   "source": [
    "Let us now consider a even more challenging setting for the Hes1 system by letting $\\tau_{1} = \\{t_{5},t_{9},t_{17},t_{21},\\ldots,t_{161}\\}$, $\\tau_{2} = \\{t_{1},t_{9},t_{13},t_{21},\\ldots,t_{156}\\}$, and $\\tau_{3} = \\{t_{1},t_{5},t_{13},t_{17},\\ldots,t_{161}\\}$. Here, (i) only two out of three components are observable at a particular time, (ii) the observation times are no longer equal spaced-out, (iii) only about 28 observations are available for each component, which is one third less than the 41 observations considered previously."
   ]
  },
  {
   "cell_type": "code",
   "execution_count": null,
   "id": "played-ontario",
   "metadata": {},
   "outputs": [],
   "source": [
    "# experimental setting\n",
    "seed = 898503136 # random seed\n",
    "example = 'hes1' # example\n",
    "no_train = '2' # train file, '1' for full observations, '2' for partial observations\n",
    "noise = [0.1,0.1,0.1] # noise level\n",
    "\n",
    "# read data\n",
    "data = np.loadtxt('data/%s/groundtruth.txt' %(example))\n",
    "tdata = data[:,0] # time\n",
    "xdata = data[:,1:] # component values\n",
    "no_comp = xdata.shape[1] # number of components\n",
    "obs_idx = open('data/%s/train%s.txt' %(example,no_train), 'r').readlines()\n",
    "if (len(obs_idx) != no_comp):\n",
    "    raise ValueError('observation idx must have %d sets!' %(no_comp))\n",
    "obs_idx = [[int(x) for x in ox.split(',')] for ox in obs_idx] # observation time point index\n",
    "max_obsidx = max([max(x) for x in obs_idx]) \n",
    "\n",
    "# preprocess data\n",
    "tobs = tdata[0:(max_obsidx+1)].copy()\n",
    "yobs = xdata[0:(max_obsidx+1),:].copy()\n",
    "np.random.seed(seed) # set random seed for noise\n",
    "for i in range(no_comp):\n",
    "    yobs[:,i] = yobs[:,i] + np.random.normal(0,noise[i],(max_obsidx+1))\n",
    "    missing = np.ones((max_obsidx+1)).astype(bool)\n",
    "    missing[obs_idx[i]] = False\n",
    "    yobs[missing,i] = np.nan\n",
    "    \n",
    "# visualize the groundtruth trajectory and the noisy data\n",
    "col = ['b','r','g']\n",
    "fig = plt.figure(facecolor='w')\n",
    "ax = fig.add_subplot(111, facecolor='#dddddd', axisbelow=True)\n",
    "for i in range(no_comp):\n",
    "    ax.plot(tdata, xdata[:,i], color=col[i], linestyle=':', alpha=0.5, lw=1)\n",
    "    ax.scatter(tobs, yobs[:,i], s=7.5, marker='o', color=col[i])\n",
    "ax.set_xlabel('')\n",
    "ax.set_ylabel('')\n",
    "ax.set_ylim(-2,4)\n",
    "plt.show()"
   ]
  },
  {
   "cell_type": "markdown",
   "id": "combined-timber",
   "metadata": {},
   "source": [
    "Now we apply MAGI-X for learning the unknown dynamic using only the noisy observations."
   ]
  },
  {
   "cell_type": "code",
   "execution_count": null,
   "id": "quiet-release",
   "metadata": {},
   "outputs": [],
   "source": [
    "torch.manual_seed(seed)\n",
    "magix_iteration = 2500\n",
    "magix_node = [no_comp,512,no_comp]\n",
    "start_time = time.time()\n",
    "fOde = dynamic.nnModule(magix_node) # define neural network dynamic\n",
    "magix = odeinfer.odeinfer(yobs,tobs,fOde) # call inference class\n",
    "xinfer = magix.map(nEpoch=magix_iteration,verbose=True,returnX=True) # map inference\n",
    "end_time = time.time()\n",
    "run_time = end_time - start_time\n",
    "print(\"run time: %.2f seconds\" %(run_time))"
   ]
  },
  {
   "cell_type": "markdown",
   "id": "wired-salvation",
   "metadata": {},
   "source": [
    "We now compute the reconstructed trajectory (solid line) from the learned dynamic."
   ]
  },
  {
   "cell_type": "code",
   "execution_count": null,
   "id": "figured-surrey",
   "metadata": {},
   "outputs": [],
   "source": [
    "x0 = xinfer[0,:].squeeze() # inferred initial state\n",
    "xrecon = magix.predict(x0,tdata) # reconstructed trajectory\n",
    "# visualization\n",
    "col = ['b','r','g']\n",
    "fig = plt.figure(facecolor='w')\n",
    "ax = fig.add_subplot(111, facecolor='#dddddd', axisbelow=True)\n",
    "for i in range(no_comp):\n",
    "    ax.plot(tdata, xrecon[:,i], color=col[i], alpha=0.5, lw=2.5)\n",
    "    ax.plot(tdata, xdata[:,i], linestyle=':', color=col[i], alpha=1, lw=1)\n",
    "    ax.scatter(tobs, yobs[:,i], s=7.5, marker='o', color=col[i])\n",
    "ax.set_xlabel('')\n",
    "ax.set_ylabel('')\n",
    "ax.set_ylim(-2,4)\n",
    "plt.title('Reconstructed Trajectory')\n",
    "plt.show()"
   ]
  },
  {
   "cell_type": "markdown",
   "id": "banned-surgery",
   "metadata": {},
   "source": [
    "We next compute the inferred trajectory (solid line) from the learned dynamic."
   ]
  },
  {
   "cell_type": "code",
   "execution_count": null,
   "id": "portuguese-mileage",
   "metadata": {},
   "outputs": [],
   "source": [
    "xl = xinfer[-1,:].squeeze() # inferred last state (initial state for forecast)\n",
    "xpred = magix.predict(xl,tdata[max_obsidx:]) # forecast reconstruction\n",
    "xif = np.vstack((xinfer,xpred[1:,:])) # inferred + forecast\n",
    "# visualization\n",
    "col = ['b','r','g']\n",
    "fig = plt.figure(facecolor='w')\n",
    "ax = fig.add_subplot(111, facecolor='#dddddd', axisbelow=True)\n",
    "for i in range(no_comp):\n",
    "    ax.plot(tdata, xif[:,i], color=col[i], alpha=0.5, lw=2.5)\n",
    "    ax.plot(tdata, xdata[:,i], linestyle=':', color=col[i], alpha=1, lw=1)\n",
    "    ax.scatter(tobs, yobs[:,i], s=7.5, marker='o', color=col[i])\n",
    "ax.set_xlabel('')\n",
    "ax.set_ylabel('')\n",
    "ax.set_ylim(-2,4)\n",
    "plt.title('Inferred Trajectory')\n",
    "plt.show()"
   ]
  },
  {
   "cell_type": "code",
   "execution_count": null,
   "id": "greenhouse-construction",
   "metadata": {},
   "outputs": [],
   "source": []
  }
 ],
 "metadata": {
  "kernelspec": {
   "display_name": "Python 3",
   "language": "python",
   "name": "python3"
  },
  "language_info": {
   "codemirror_mode": {
    "name": "ipython",
    "version": 3
   },
   "file_extension": ".py",
   "mimetype": "text/x-python",
   "name": "python",
   "nbconvert_exporter": "python",
   "pygments_lexer": "ipython3",
   "version": "3.7.2"
  }
 },
 "nbformat": 4,
 "nbformat_minor": 5
}
